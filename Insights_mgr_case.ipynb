{
 "cells": [
  {
   "cell_type": "code",
   "execution_count": 53,
   "id": "8f4a8aa4",
   "metadata": {},
   "outputs": [],
   "source": [
    "import pandas as pd\n",
    "import numpy as np\n",
    "import os\n",
    "import seaborn as sns\n",
    "import matplotlib.pyplot as plt\n",
    "import plotly.express as px\n",
    "import plotly.graph_objects as go\n",
    "\n",
    "from scipy import stats\n",
    "from sklearn.preprocessing import StandardScaler\n",
    "\n",
    "import datetime as dt\n",
    "from scipy import stats"
   ]
  },
  {
   "cell_type": "code",
   "execution_count": 13,
   "id": "b74ad509",
   "metadata": {},
   "outputs": [],
   "source": [
    "os.chdir(\"C:\\\\Jerry\\\\Insights_mgr\")"
   ]
  },
  {
   "cell_type": "code",
   "execution_count": 14,
   "id": "820a88ff",
   "metadata": {},
   "outputs": [],
   "source": [
    "df_1 = pd.read_excel(\"Interview Activity_Datasets (1).xlsx\", sheet_name=2)\n",
    "df_2 = pd.read_excel(\"Interview Activity_Datasets (1).xlsx\", sheet_name=3)"
   ]
  },
  {
   "cell_type": "code",
   "execution_count": 15,
   "id": "53075e0d",
   "metadata": {},
   "outputs": [
    {
     "data": {
      "text/html": [
       "<div>\n",
       "<style scoped>\n",
       "    .dataframe tbody tr th:only-of-type {\n",
       "        vertical-align: middle;\n",
       "    }\n",
       "\n",
       "    .dataframe tbody tr th {\n",
       "        vertical-align: top;\n",
       "    }\n",
       "\n",
       "    .dataframe thead th {\n",
       "        text-align: right;\n",
       "    }\n",
       "</style>\n",
       "<table border=\"1\" class=\"dataframe\">\n",
       "  <thead>\n",
       "    <tr style=\"text-align: right;\">\n",
       "      <th></th>\n",
       "      <th>Year</th>\n",
       "      <th>Playoffs Start Date</th>\n",
       "      <th>AMA (000)</th>\n",
       "      <th>Reach (000)</th>\n",
       "      <th>% Reached (Canadian population)</th>\n",
       "      <th>Avg. Weekly Reach (000)</th>\n",
       "      <th># of Canadian teams at start of Playoffs</th>\n",
       "      <th>Loyalty %</th>\n",
       "    </tr>\n",
       "  </thead>\n",
       "  <tbody>\n",
       "    <tr>\n",
       "      <th>0</th>\n",
       "      <td>2015</td>\n",
       "      <td>2015-04-15</td>\n",
       "      <td>1299.9</td>\n",
       "      <td>25401</td>\n",
       "      <td>72.5</td>\n",
       "      <td>16533</td>\n",
       "      <td>5</td>\n",
       "      <td>28.9</td>\n",
       "    </tr>\n",
       "    <tr>\n",
       "      <th>1</th>\n",
       "      <td>2016</td>\n",
       "      <td>2016-04-13</td>\n",
       "      <td>631.7</td>\n",
       "      <td>19958</td>\n",
       "      <td>56.7</td>\n",
       "      <td>11594</td>\n",
       "      <td>0</td>\n",
       "      <td>21.8</td>\n",
       "    </tr>\n",
       "    <tr>\n",
       "      <th>2</th>\n",
       "      <td>2017</td>\n",
       "      <td>2017-04-12</td>\n",
       "      <td>1400.5</td>\n",
       "      <td>24885</td>\n",
       "      <td>69.9</td>\n",
       "      <td>16003</td>\n",
       "      <td>5</td>\n",
       "      <td>28.5</td>\n",
       "    </tr>\n",
       "    <tr>\n",
       "      <th>3</th>\n",
       "      <td>2018</td>\n",
       "      <td>2018-04-11</td>\n",
       "      <td>1173.8</td>\n",
       "      <td>22812</td>\n",
       "      <td>63.6</td>\n",
       "      <td>14525</td>\n",
       "      <td>2</td>\n",
       "      <td>26.9</td>\n",
       "    </tr>\n",
       "    <tr>\n",
       "      <th>4</th>\n",
       "      <td>2019</td>\n",
       "      <td>2019-04-10</td>\n",
       "      <td>1010.9</td>\n",
       "      <td>22658</td>\n",
       "      <td>62.3</td>\n",
       "      <td>13679</td>\n",
       "      <td>3</td>\n",
       "      <td>25.4</td>\n",
       "    </tr>\n",
       "    <tr>\n",
       "      <th>5</th>\n",
       "      <td>2020</td>\n",
       "      <td>2020-08-11</td>\n",
       "      <td>683.0</td>\n",
       "      <td>18590</td>\n",
       "      <td>50.5</td>\n",
       "      <td>11907</td>\n",
       "      <td>3</td>\n",
       "      <td>22.4</td>\n",
       "    </tr>\n",
       "    <tr>\n",
       "      <th>6</th>\n",
       "      <td>2021</td>\n",
       "      <td>2021-05-15</td>\n",
       "      <td>955.5</td>\n",
       "      <td>21187</td>\n",
       "      <td>56.6</td>\n",
       "      <td>12557</td>\n",
       "      <td>4</td>\n",
       "      <td>28.1</td>\n",
       "    </tr>\n",
       "    <tr>\n",
       "      <th>7</th>\n",
       "      <td>2022</td>\n",
       "      <td>2022-05-02</td>\n",
       "      <td>1056.0</td>\n",
       "      <td>20288</td>\n",
       "      <td>54.2</td>\n",
       "      <td>13678</td>\n",
       "      <td>3</td>\n",
       "      <td>27.0</td>\n",
       "    </tr>\n",
       "    <tr>\n",
       "      <th>8</th>\n",
       "      <td>2023</td>\n",
       "      <td>2023-04-17</td>\n",
       "      <td>1204.3</td>\n",
       "      <td>21905</td>\n",
       "      <td>57.6</td>\n",
       "      <td>12946</td>\n",
       "      <td>3</td>\n",
       "      <td>28.5</td>\n",
       "    </tr>\n",
       "  </tbody>\n",
       "</table>\n",
       "</div>"
      ],
      "text/plain": [
       "   Year Playoffs Start Date  AMA (000)  Reach (000)  \\\n",
       "0  2015          2015-04-15     1299.9        25401   \n",
       "1  2016          2016-04-13      631.7        19958   \n",
       "2  2017          2017-04-12     1400.5        24885   \n",
       "3  2018          2018-04-11     1173.8        22812   \n",
       "4  2019          2019-04-10     1010.9        22658   \n",
       "5  2020          2020-08-11      683.0        18590   \n",
       "6  2021          2021-05-15      955.5        21187   \n",
       "7  2022          2022-05-02     1056.0        20288   \n",
       "8  2023          2023-04-17     1204.3        21905   \n",
       "\n",
       "   % Reached (Canadian population)  Avg. Weekly Reach (000)  \\\n",
       "0                             72.5                    16533   \n",
       "1                             56.7                    11594   \n",
       "2                             69.9                    16003   \n",
       "3                             63.6                    14525   \n",
       "4                             62.3                    13679   \n",
       "5                             50.5                    11907   \n",
       "6                             56.6                    12557   \n",
       "7                             54.2                    13678   \n",
       "8                             57.6                    12946   \n",
       "\n",
       "   # of Canadian teams at start of Playoffs  Loyalty %  \n",
       "0                                         5       28.9  \n",
       "1                                         0       21.8  \n",
       "2                                         5       28.5  \n",
       "3                                         2       26.9  \n",
       "4                                         3       25.4  \n",
       "5                                         3       22.4  \n",
       "6                                         4       28.1  \n",
       "7                                         3       27.0  \n",
       "8                                         3       28.5  "
      ]
     },
     "execution_count": 15,
     "metadata": {},
     "output_type": "execute_result"
    }
   ],
   "source": [
    "df_1"
   ]
  },
  {
   "cell_type": "code",
   "execution_count": 16,
   "id": "63a1fe0e",
   "metadata": {},
   "outputs": [
    {
     "data": {
      "text/html": [
       "<div>\n",
       "<style scoped>\n",
       "    .dataframe tbody tr th:only-of-type {\n",
       "        vertical-align: middle;\n",
       "    }\n",
       "\n",
       "    .dataframe tbody tr th {\n",
       "        vertical-align: top;\n",
       "    }\n",
       "\n",
       "    .dataframe thead th {\n",
       "        text-align: right;\n",
       "    }\n",
       "</style>\n",
       "<table border=\"1\" class=\"dataframe\">\n",
       "  <thead>\n",
       "    <tr style=\"text-align: right;\">\n",
       "      <th></th>\n",
       "      <th>Year/Month</th>\n",
       "      <th>UV (000)</th>\n",
       "      <th>Number of Streams (000)</th>\n",
       "      <th>Total Mins Streamed (000)</th>\n",
       "    </tr>\n",
       "  </thead>\n",
       "  <tbody>\n",
       "    <tr>\n",
       "      <th>0</th>\n",
       "      <td>2022-10-01</td>\n",
       "      <td>328</td>\n",
       "      <td>4025</td>\n",
       "      <td>169527</td>\n",
       "    </tr>\n",
       "    <tr>\n",
       "      <th>1</th>\n",
       "      <td>2022-11-01</td>\n",
       "      <td>358</td>\n",
       "      <td>4959</td>\n",
       "      <td>245746</td>\n",
       "    </tr>\n",
       "    <tr>\n",
       "      <th>2</th>\n",
       "      <td>2022-12-01</td>\n",
       "      <td>328</td>\n",
       "      <td>5624</td>\n",
       "      <td>224251</td>\n",
       "    </tr>\n",
       "    <tr>\n",
       "      <th>3</th>\n",
       "      <td>2023-01-01</td>\n",
       "      <td>332</td>\n",
       "      <td>5707</td>\n",
       "      <td>203637</td>\n",
       "    </tr>\n",
       "    <tr>\n",
       "      <th>4</th>\n",
       "      <td>2023-02-01</td>\n",
       "      <td>308</td>\n",
       "      <td>5301</td>\n",
       "      <td>171504</td>\n",
       "    </tr>\n",
       "    <tr>\n",
       "      <th>5</th>\n",
       "      <td>2023-03-01</td>\n",
       "      <td>362</td>\n",
       "      <td>6113</td>\n",
       "      <td>260221</td>\n",
       "    </tr>\n",
       "    <tr>\n",
       "      <th>6</th>\n",
       "      <td>2023-04-01</td>\n",
       "      <td>601</td>\n",
       "      <td>11182</td>\n",
       "      <td>526050</td>\n",
       "    </tr>\n",
       "    <tr>\n",
       "      <th>7</th>\n",
       "      <td>2023-05-01</td>\n",
       "      <td>499</td>\n",
       "      <td>4742</td>\n",
       "      <td>278051</td>\n",
       "    </tr>\n",
       "  </tbody>\n",
       "</table>\n",
       "</div>"
      ],
      "text/plain": [
       "  Year/Month  UV (000)  Number of Streams (000)  Total Mins Streamed (000)\n",
       "0 2022-10-01       328                     4025                     169527\n",
       "1 2022-11-01       358                     4959                     245746\n",
       "2 2022-12-01       328                     5624                     224251\n",
       "3 2023-01-01       332                     5707                     203637\n",
       "4 2023-02-01       308                     5301                     171504\n",
       "5 2023-03-01       362                     6113                     260221\n",
       "6 2023-04-01       601                    11182                     526050\n",
       "7 2023-05-01       499                     4742                     278051"
      ]
     },
     "execution_count": 16,
     "metadata": {},
     "output_type": "execute_result"
    }
   ],
   "source": [
    "df_2"
   ]
  },
  {
   "cell_type": "code",
   "execution_count": 10,
   "id": "70a6f890",
   "metadata": {},
   "outputs": [
    {
     "data": {
      "image/png": "[encoded data removed]",
      "text/plain": [
       "<Figure size 432x288 with 2 Axes>"
      ]
     },
     "metadata": {
      "needs_background": "light"
     },
     "output_type": "display_data"
    }
   ],
   "source": [
    "# correlation\n",
    "cor_heatmap = sns.heatmap(df_1.corr(),\n",
    "                          vmin=-1, \n",
    "                          vmax=1, \n",
    "                          annot=True)"
   ]
  },
  {
   "cell_type": "code",
   "execution_count": 18,
   "id": "534fd42d",
   "metadata": {},
   "outputs": [
    {
     "data": {
      "text/plain": [
       "Index(['Year', 'Playoffs Start Date', 'AMA (000)', 'Reach (000)',\n",
       "       '% Reached (Canadian population)', 'Avg. Weekly Reach (000)',\n",
       "       '# of Canadian teams at start of Playoffs', 'Loyalty %'],\n",
       "      dtype='object')"
      ]
     },
     "execution_count": 18,
     "metadata": {},
     "output_type": "execute_result"
    }
   ],
   "source": [
    "# trend pattern df_1\n",
    "df_1.columns"
   ]
  },
  {
   "cell_type": "code",
   "execution_count": 21,
   "id": "994d8e5c",
   "metadata": {},
   "outputs": [],
   "source": [
    "std_cols = ['AMA (000)', \n",
    "             'Reach (000)',\n",
    "             '% Reached (Canadian population)', \n",
    "             'Avg. Weekly Reach (000)',\n",
    "             '# of Canadian teams at start of Playoffs', \n",
    "             'Loyalty %']"
   ]
  },
  {
   "cell_type": "code",
   "execution_count": 27,
   "id": "79ce2340",
   "metadata": {},
   "outputs": [],
   "source": [
    "std_scaler = StandardScaler()\n",
    "std_data = std_scaler.fit_transform(df_1[std_cols])\n",
    "df_1_std = pd.DataFrame(\n",
    "                        columns=std_cols,\n",
    "                        data=std_data\n",
    "                    )\n",
    "\n",
    "df_1_std['Year'] = df_1['Year']"
   ]
  },
  {
   "cell_type": "code",
   "execution_count": 40,
   "id": "633aa293",
   "metadata": {},
   "outputs": [],
   "source": [
    "with pd.ExcelWriter(\"Interview Activity_Datasets (1).xlsx\") as writer:\n",
    "    df_1_std.to_excel(excel_writer=writer, sheet_name='std_df_1')"
   ]
  },
  {
   "cell_type": "code",
   "execution_count": 41,
   "id": "accb774c",
   "metadata": {},
   "outputs": [
    {
     "data": {
      "text/html": [
       "<div>\n",
       "<style scoped>\n",
       "    .dataframe tbody tr th:only-of-type {\n",
       "        vertical-align: middle;\n",
       "    }\n",
       "\n",
       "    .dataframe tbody tr th {\n",
       "        vertical-align: top;\n",
       "    }\n",
       "\n",
       "    .dataframe thead th {\n",
       "        text-align: right;\n",
       "    }\n",
       "</style>\n",
       "<table border=\"1\" class=\"dataframe\">\n",
       "  <thead>\n",
       "    <tr style=\"text-align: right;\">\n",
       "      <th></th>\n",
       "      <th>AMA (000)</th>\n",
       "      <th>Reach (000)</th>\n",
       "      <th>% Reached (Canadian population)</th>\n",
       "      <th>Avg. Weekly Reach (000)</th>\n",
       "      <th># of Canadian teams at start of Playoffs</th>\n",
       "      <th>Loyalty %</th>\n",
       "      <th>Year</th>\n",
       "    </tr>\n",
       "  </thead>\n",
       "  <tbody>\n",
       "    <tr>\n",
       "      <th>0</th>\n",
       "      <td>1.031563</td>\n",
       "      <td>1.622403</td>\n",
       "      <td>1.760271</td>\n",
       "      <td>1.743536</td>\n",
       "      <td>1.303840</td>\n",
       "      <td>1.000196</td>\n",
       "      <td>2015</td>\n",
       "    </tr>\n",
       "    <tr>\n",
       "      <th>1</th>\n",
       "      <td>-1.685150</td>\n",
       "      <td>-0.947578</td>\n",
       "      <td>-0.544614</td>\n",
       "      <td>-1.310727</td>\n",
       "      <td>-2.147502</td>\n",
       "      <td>-1.827792</td>\n",
       "      <td>2016</td>\n",
       "    </tr>\n",
       "    <tr>\n",
       "      <th>2</th>\n",
       "      <td>1.440574</td>\n",
       "      <td>1.378767</td>\n",
       "      <td>1.380986</td>\n",
       "      <td>1.415786</td>\n",
       "      <td>1.303840</td>\n",
       "      <td>0.840873</td>\n",
       "      <td>2017</td>\n",
       "    </tr>\n",
       "    <tr>\n",
       "      <th>3</th>\n",
       "      <td>0.518876</td>\n",
       "      <td>0.399974</td>\n",
       "      <td>0.461949</td>\n",
       "      <td>0.501795</td>\n",
       "      <td>-0.766965</td>\n",
       "      <td>0.203580</td>\n",
       "      <td>2018</td>\n",
       "    </tr>\n",
       "    <tr>\n",
       "      <th>4</th>\n",
       "      <td>-0.143429</td>\n",
       "      <td>0.327261</td>\n",
       "      <td>0.272307</td>\n",
       "      <td>-0.021369</td>\n",
       "      <td>-0.076696</td>\n",
       "      <td>-0.393882</td>\n",
       "      <td>2019</td>\n",
       "    </tr>\n",
       "    <tr>\n",
       "      <th>5</th>\n",
       "      <td>-1.476578</td>\n",
       "      <td>-1.593497</td>\n",
       "      <td>-1.449063</td>\n",
       "      <td>-1.117169</td>\n",
       "      <td>-0.076696</td>\n",
       "      <td>-1.588807</td>\n",
       "      <td>2020</td>\n",
       "    </tr>\n",
       "    <tr>\n",
       "      <th>6</th>\n",
       "      <td>-0.368670</td>\n",
       "      <td>-0.367290</td>\n",
       "      <td>-0.559202</td>\n",
       "      <td>-0.715211</td>\n",
       "      <td>0.613572</td>\n",
       "      <td>0.681549</td>\n",
       "      <td>2021</td>\n",
       "    </tr>\n",
       "    <tr>\n",
       "      <th>7</th>\n",
       "      <td>0.039934</td>\n",
       "      <td>-0.791764</td>\n",
       "      <td>-0.909311</td>\n",
       "      <td>-0.021987</td>\n",
       "      <td>-0.076696</td>\n",
       "      <td>0.243410</td>\n",
       "      <td>2022</td>\n",
       "    </tr>\n",
       "    <tr>\n",
       "      <th>8</th>\n",
       "      <td>0.642880</td>\n",
       "      <td>-0.028277</td>\n",
       "      <td>-0.413323</td>\n",
       "      <td>-0.474654</td>\n",
       "      <td>-0.076696</td>\n",
       "      <td>0.840873</td>\n",
       "      <td>2023</td>\n",
       "    </tr>\n",
       "  </tbody>\n",
       "</table>\n",
       "</div>"
      ],
      "text/plain": [
       "   AMA (000)  Reach (000)  % Reached (Canadian population)  \\\n",
       "0   1.031563     1.622403                         1.760271   \n",
       "1  -1.685150    -0.947578                        -0.544614   \n",
       "2   1.440574     1.378767                         1.380986   \n",
       "3   0.518876     0.399974                         0.461949   \n",
       "4  -0.143429     0.327261                         0.272307   \n",
       "5  -1.476578    -1.593497                        -1.449063   \n",
       "6  -0.368670    -0.367290                        -0.559202   \n",
       "7   0.039934    -0.791764                        -0.909311   \n",
       "8   0.642880    -0.028277                        -0.413323   \n",
       "\n",
       "   Avg. Weekly Reach (000)  # of Canadian teams at start of Playoffs  \\\n",
       "0                 1.743536                                  1.303840   \n",
       "1                -1.310727                                 -2.147502   \n",
       "2                 1.415786                                  1.303840   \n",
       "3                 0.501795                                 -0.766965   \n",
       "4                -0.021369                                 -0.076696   \n",
       "5                -1.117169                                 -0.076696   \n",
       "6                -0.715211                                  0.613572   \n",
       "7                -0.021987                                 -0.076696   \n",
       "8                -0.474654                                 -0.076696   \n",
       "\n",
       "   Loyalty %  Year  \n",
       "0   1.000196  2015  \n",
       "1  -1.827792  2016  \n",
       "2   0.840873  2017  \n",
       "3   0.203580  2018  \n",
       "4  -0.393882  2019  \n",
       "5  -1.588807  2020  \n",
       "6   0.681549  2021  \n",
       "7   0.243410  2022  \n",
       "8   0.840873  2023  "
      ]
     },
     "execution_count": 41,
     "metadata": {},
     "output_type": "execute_result"
    }
   ],
   "source": [
    "df_1_std"
   ]
  },
  {
   "cell_type": "code",
   "execution_count": 38,
   "id": "fbff551a",
   "metadata": {},
   "outputs": [
    {
     "data": {
      "application/vnd.plotly.v1+json": {
       "config": {
        "plotlyServerURL": "https://plot.ly"
       },
       "data": [
        {
         "line": {
          "color": "rgb(31, 119, 180)",
          "width": 1
         },
         "name": "AMA (000)",
         "type": "scatter",
         "x": [
          2015,
          2016,
          2017,
          2018,
          2019,
          2020,
          2021,
          2022,
          2023
         ],
         "y": [
          1.0315628959232097,
          -1.6851495820724114,
          1.440574083122191,
          0.5188759107761758,
          -0.14342948082137977,
          -1.4765782709063304,
          -0.3686702340104808,
          0.03993438143184167,
          0.642880296557179
         ]
        },
        {
         "line": {
          "color": "rgb(255, 127, 14)",
          "width": 1
         },
         "name": "Reach (000)",
         "type": "scatter",
         "x": [
          2015,
          2016,
          2017,
          2018,
          2019,
          2020,
          2021,
          2022,
          2023
         ],
         "y": [
          1.6224034416606075,
          -0.9475780424664165,
          1.3787674971797064,
          0.3999742551081796,
          0.3272612019103913,
          -1.5934965929506657,
          -0.3672901049334177,
          -0.7917643570425844,
          -0.028277298465807323
         ]
        },
        {
         "line": {
          "color": "rgb(44, 160, 44)",
          "width": 1
         },
         "name": "% Reached (Canadian population)",
         "type": "scatter",
         "x": [
          2015,
          2016,
          2017,
          2018,
          2019,
          2020,
          2021,
          2022,
          2023
         ],
         "y": [
          1.760270694469892,
          -0.5446141375155457,
          1.3809858487001372,
          0.4619494916426518,
          0.27230706875777333,
          -1.4490626158895787,
          -0.559202016198998,
          -0.9093111046018492,
          -0.41332322936447663
         ]
        },
        {
         "line": {
          "color": "rgb(214, 39, 40)",
          "width": 1
         },
         "name": "Avg. Weekly Reach (000)",
         "type": "scatter",
         "x": [
          2015,
          2016,
          2017,
          2018,
          2019,
          2020,
          2021,
          2022,
          2023
         ],
         "y": [
          1.743536234967758,
          -1.3107269839702436,
          1.415785778187612,
          0.50179488173279,
          -0.021369054938914677,
          -1.117168695343478,
          -0.715210587971601,
          -0.0219874520271791,
          -0.4746541206367392
         ]
        },
        {
         "line": {
          "color": "rgb(148, 103, 189)",
          "width": 1
         },
         "name": "# of Canadian teams at start of Playoffs",
         "type": "scatter",
         "x": [
          2015,
          2016,
          2017,
          2018,
          2019,
          2020,
          2021,
          2022,
          2023
         ],
         "y": [
          1.3038404810405297,
          -2.1475019687726373,
          1.3038404810405297,
          -0.7669649888473704,
          -0.07669649888473708,
          -0.07669649888473708,
          0.6135719910778963,
          -0.07669649888473708,
          -0.07669649888473708
         ]
        },
        {
         "line": {
          "color": "rgb(140, 86, 75)",
          "width": 1
         },
         "name": "Loyalty %",
         "type": "scatter",
         "x": [
          2015,
          2016,
          2017,
          2018,
          2019,
          2020,
          2021,
          2022,
          2023
         ],
         "y": [
          1.0001958441882424,
          -1.82779152057409,
          0.8408726123706466,
          0.20357968510026112,
          -0.3938824342157247,
          -1.5888066728476964,
          0.6815493805530509,
          0.24341049305466075,
          0.8408726123706466
         ]
        }
       ],
       "layout": {
        "template": {
         "data": {
          "bar": [
           {
            "error_x": {
             "color": "#2a3f5f"
            },
            "error_y": {
             "color": "#2a3f5f"
            },
            "marker": {
             "line": {
              "color": "#E5ECF6",
              "width": 0.5
             },
             "pattern": {
              "fillmode": "overlay",
              "size": 10,
              "solidity": 0.2
             }
            },
            "type": "bar"
           }
          ],
          "barpolar": [
           {
            "marker": {
             "line": {
              "color": "#E5ECF6",
              "width": 0.5
             },
             "pattern": {
              "fillmode": "overlay",
              "size": 10,
              "solidity": 0.2
             }
            },
            "type": "barpolar"
           }
          ],
          "carpet": [
           {
            "aaxis": {
             "endlinecolor": "#2a3f5f",
             "gridcolor": "white",
             "linecolor": "white",
             "minorgridcolor": "white",
             "startlinecolor": "#2a3f5f"
            },
            "baxis": {
             "endlinecolor": "#2a3f5f",
             "gridcolor": "white",
             "linecolor": "white",
             "minorgridcolor": "white",
             "startlinecolor": "#2a3f5f"
            },
            "type": "carpet"
           }
          ],
          "choropleth": [
           {
            "colorbar": {
             "outlinewidth": 0,
             "ticks": ""
            },
            "type": "choropleth"
           }
          ],
          "contour": [
           {
            "colorbar": {
             "outlinewidth": 0,
             "ticks": ""
            },
            "colorscale": [
             [
              0,
              "#0d0887"
             ],
             [
              0.1111111111111111,
              "#46039f"
             ],
             [
              0.2222222222222222,
              "#7201a8"
             ],
             [
              0.3333333333333333,
              "#9c179e"
             ],
             [
              0.4444444444444444,
              "#bd3786"
             ],
             [
              0.5555555555555556,
              "#d8576b"
             ],
             [
              0.6666666666666666,
              "#ed7953"
             ],
             [
              0.7777777777777778,
              "#fb9f3a"
             ],
             [
              0.8888888888888888,
              "#fdca26"
             ],
             [
              1,
              "#f0f921"
             ]
            ],
            "type": "contour"
           }
          ],
          "contourcarpet": [
           {
            "colorbar": {
             "outlinewidth": 0,
             "ticks": ""
            },
            "type": "contourcarpet"
           }
          ],
          "heatmap": [
           {
            "colorbar": {
             "outlinewidth": 0,
             "ticks": ""
            },
            "colorscale": [
             [
              0,
              "#0d0887"
             ],
             [
              0.1111111111111111,
              "#46039f"
             ],
             [
              0.2222222222222222,
              "#7201a8"
             ],
             [
              0.3333333333333333,
              "#9c179e"
             ],
             [
              0.4444444444444444,
              "#bd3786"
             ],
             [
              0.5555555555555556,
              "#d8576b"
             ],
             [
              0.6666666666666666,
              "#ed7953"
             ],
             [
              0.7777777777777778,
              "#fb9f3a"
             ],
             [
              0.8888888888888888,
              "#fdca26"
             ],
             [
              1,
              "#f0f921"
             ]
            ],
            "type": "heatmap"
           }
          ],
          "heatmapgl": [
           {
            "colorbar": {
             "outlinewidth": 0,
             "ticks": ""
            },
            "colorscale": [
             [
              0,
              "#0d0887"
             ],
             [
              0.1111111111111111,
              "#46039f"
             ],
             [
              0.2222222222222222,
              "#7201a8"
             ],
             [
              0.3333333333333333,
              "#9c179e"
             ],
             [
              0.4444444444444444,
              "#bd3786"
             ],
             [
              0.5555555555555556,
              "#d8576b"
             ],
             [
              0.6666666666666666,
              "#ed7953"
             ],
             [
              0.7777777777777778,
              "#fb9f3a"
             ],
             [
              0.8888888888888888,
              "#fdca26"
             ],
             [
              1,
              "#f0f921"
             ]
            ],
            "type": "heatmapgl"
           }
          ],
          "histogram": [
           {
            "marker": {
             "pattern": {
              "fillmode": "overlay",
              "size": 10,
              "solidity": 0.2
             }
            },
            "type": "histogram"
           }
          ],
          "histogram2d": [
           {
            "colorbar": {
             "outlinewidth": 0,
             "ticks": ""
            },
            "colorscale": [
             [
              0,
              "#0d0887"
             ],
             [
              0.1111111111111111,
              "#46039f"
             ],
             [
              0.2222222222222222,
              "#7201a8"
             ],
             [
              0.3333333333333333,
              "#9c179e"
             ],
             [
              0.4444444444444444,
              "#bd3786"
             ],
             [
              0.5555555555555556,
              "#d8576b"
             ],
             [
              0.6666666666666666,
              "#ed7953"
             ],
             [
              0.7777777777777778,
              "#fb9f3a"
             ],
             [
              0.8888888888888888,
              "#fdca26"
             ],
             [
              1,
              "#f0f921"
             ]
            ],
            "type": "histogram2d"
           }
          ],
          "histogram2dcontour": [
           {
            "colorbar": {
             "outlinewidth": 0,
             "ticks": ""
            },
            "colorscale": [
             [
              0,
              "#0d0887"
             ],
             [
              0.1111111111111111,
              "#46039f"
             ],
             [
              0.2222222222222222,
              "#7201a8"
             ],
             [
              0.3333333333333333,
              "#9c179e"
             ],
             [
              0.4444444444444444,
              "#bd3786"
             ],
             [
              0.5555555555555556,
              "#d8576b"
             ],
             [
              0.6666666666666666,
              "#ed7953"
             ],
             [
              0.7777777777777778,
              "#fb9f3a"
             ],
             [
              0.8888888888888888,
              "#fdca26"
             ],
             [
              1,
              "#f0f921"
             ]
            ],
            "type": "histogram2dcontour"
           }
          ],
          "mesh3d": [
           {
            "colorbar": {
             "outlinewidth": 0,
             "ticks": ""
            },
            "type": "mesh3d"
           }
          ],
          "parcoords": [
           {
            "line": {
             "colorbar": {
              "outlinewidth": 0,
              "ticks": ""
             }
            },
            "type": "parcoords"
           }
          ],
          "pie": [
           {
            "automargin": true,
            "type": "pie"
           }
          ],
          "scatter": [
           {
            "marker": {
             "colorbar": {
              "outlinewidth": 0,
              "ticks": ""
             }
            },
            "type": "scatter"
           }
          ],
          "scatter3d": [
           {
            "line": {
             "colorbar": {
              "outlinewidth": 0,
              "ticks": ""
             }
            },
            "marker": {
             "colorbar": {
              "outlinewidth": 0,
              "ticks": ""
             }
            },
            "type": "scatter3d"
           }
          ],
          "scattercarpet": [
           {
            "marker": {
             "colorbar": {
              "outlinewidth": 0,
              "ticks": ""
             }
            },
            "type": "scattercarpet"
           }
          ],
          "scattergeo": [
           {
            "marker": {
             "colorbar": {
              "outlinewidth": 0,
              "ticks": ""
             }
            },
            "type": "scattergeo"
           }
          ],
          "scattergl": [
           {
            "marker": {
             "colorbar": {
              "outlinewidth": 0,
              "ticks": ""
             }
            },
            "type": "scattergl"
           }
          ],
          "scattermapbox": [
           {
            "marker": {
             "colorbar": {
              "outlinewidth": 0,
              "ticks": ""
             }
            },
            "type": "scattermapbox"
           }
          ],
          "scatterpolar": [
           {
            "marker": {
             "colorbar": {
              "outlinewidth": 0,
              "ticks": ""
             }
            },
            "type": "scatterpolar"
           }
          ],
          "scatterpolargl": [
           {
            "marker": {
             "colorbar": {
              "outlinewidth": 0,
              "ticks": ""
             }
            },
            "type": "scatterpolargl"
           }
          ],
          "scatterternary": [
           {
            "marker": {
             "colorbar": {
              "outlinewidth": 0,
              "ticks": ""
             }
            },
            "type": "scatterternary"
           }
          ],
          "surface": [
           {
            "colorbar": {
             "outlinewidth": 0,
             "ticks": ""
            },
            "colorscale": [
             [
              0,
              "#0d0887"
             ],
             [
              0.1111111111111111,
              "#46039f"
             ],
             [
              0.2222222222222222,
              "#7201a8"
             ],
             [
              0.3333333333333333,
              "#9c179e"
             ],
             [
              0.4444444444444444,
              "#bd3786"
             ],
             [
              0.5555555555555556,
              "#d8576b"
             ],
             [
              0.6666666666666666,
              "#ed7953"
             ],
             [
              0.7777777777777778,
              "#fb9f3a"
             ],
             [
              0.8888888888888888,
              "#fdca26"
             ],
             [
              1,
              "#f0f921"
             ]
            ],
            "type": "surface"
           }
          ],
          "table": [
           {
            "cells": {
             "fill": {
              "color": "#EBF0F8"
             },
             "line": {
              "color": "white"
             }
            },
            "header": {
             "fill": {
              "color": "#C8D4E3"
             },
             "line": {
              "color": "white"
             }
            },
            "type": "table"
           }
          ]
         },
         "layout": {
          "annotationdefaults": {
           "arrowcolor": "#2a3f5f",
           "arrowhead": 0,
           "arrowwidth": 1
          },
          "autotypenumbers": "strict",
          "coloraxis": {
           "colorbar": {
            "outlinewidth": 0,
            "ticks": ""
           }
          },
          "colorscale": {
           "diverging": [
            [
             0,
             "#8e0152"
            ],
            [
             0.1,
             "#c51b7d"
            ],
            [
             0.2,
             "#de77ae"
            ],
            [
             0.3,
             "#f1b6da"
            ],
            [
             0.4,
             "#fde0ef"
            ],
            [
             0.5,
             "#f7f7f7"
            ],
            [
             0.6,
             "#e6f5d0"
            ],
            [
             0.7,
             "#b8e186"
            ],
            [
             0.8,
             "#7fbc41"
            ],
            [
             0.9,
             "#4d9221"
            ],
            [
             1,
             "#276419"
            ]
           ],
           "sequential": [
            [
             0,
             "#0d0887"
            ],
            [
             0.1111111111111111,
             "#46039f"
            ],
            [
             0.2222222222222222,
             "#7201a8"
            ],
            [
             0.3333333333333333,
             "#9c179e"
            ],
            [
             0.4444444444444444,
             "#bd3786"
            ],
            [
             0.5555555555555556,
             "#d8576b"
            ],
            [
             0.6666666666666666,
             "#ed7953"
            ],
            [
             0.7777777777777778,
             "#fb9f3a"
            ],
            [
             0.8888888888888888,
             "#fdca26"
            ],
            [
             1,
             "#f0f921"
            ]
           ],
           "sequentialminus": [
            [
             0,
             "#0d0887"
            ],
            [
             0.1111111111111111,
             "#46039f"
            ],
            [
             0.2222222222222222,
             "#7201a8"
            ],
            [
             0.3333333333333333,
             "#9c179e"
            ],
            [
             0.4444444444444444,
             "#bd3786"
            ],
            [
             0.5555555555555556,
             "#d8576b"
            ],
            [
             0.6666666666666666,
             "#ed7953"
            ],
            [
             0.7777777777777778,
             "#fb9f3a"
            ],
            [
             0.8888888888888888,
             "#fdca26"
            ],
            [
             1,
             "#f0f921"
            ]
           ]
          },
          "colorway": [
           "#636efa",
           "#EF553B",
           "#00cc96",
           "#ab63fa",
           "#FFA15A",
           "#19d3f3",
           "#FF6692",
           "#B6E880",
           "#FF97FF",
           "#FECB52"
          ],
          "font": {
           "color": "#2a3f5f"
          },
          "geo": {
           "bgcolor": "white",
           "lakecolor": "white",
           "landcolor": "#E5ECF6",
           "showlakes": true,
           "showland": true,
           "subunitcolor": "white"
          },
          "hoverlabel": {
           "align": "left"
          },
          "hovermode": "closest",
          "mapbox": {
           "style": "light"
          },
          "paper_bgcolor": "white",
          "plot_bgcolor": "#E5ECF6",
          "polar": {
           "angularaxis": {
            "gridcolor": "white",
            "linecolor": "white",
            "ticks": ""
           },
           "bgcolor": "#E5ECF6",
           "radialaxis": {
            "gridcolor": "white",
            "linecolor": "white",
            "ticks": ""
           }
          },
          "scene": {
           "xaxis": {
            "backgroundcolor": "#E5ECF6",
            "gridcolor": "white",
            "gridwidth": 2,
            "linecolor": "white",
            "showbackground": true,
            "ticks": "",
            "zerolinecolor": "white"
           },
           "yaxis": {
            "backgroundcolor": "#E5ECF6",
            "gridcolor": "white",
            "gridwidth": 2,
            "linecolor": "white",
            "showbackground": true,
            "ticks": "",
            "zerolinecolor": "white"
           },
           "zaxis": {
            "backgroundcolor": "#E5ECF6",
            "gridcolor": "white",
            "gridwidth": 2,
            "linecolor": "white",
            "showbackground": true,
            "ticks": "",
            "zerolinecolor": "white"
           }
          },
          "shapedefaults": {
           "line": {
            "color": "#2a3f5f"
           }
          },
          "ternary": {
           "aaxis": {
            "gridcolor": "white",
            "linecolor": "white",
            "ticks": ""
           },
           "baxis": {
            "gridcolor": "white",
            "linecolor": "white",
            "ticks": ""
           },
           "bgcolor": "#E5ECF6",
           "caxis": {
            "gridcolor": "white",
            "linecolor": "white",
            "ticks": ""
           }
          },
          "title": {
           "x": 0.05
          },
          "xaxis": {
           "automargin": true,
           "gridcolor": "white",
           "linecolor": "white",
           "ticks": "",
           "title": {
            "standoff": 15
           },
           "zerolinecolor": "white",
           "zerolinewidth": 2
          },
          "yaxis": {
           "automargin": true,
           "gridcolor": "white",
           "linecolor": "white",
           "ticks": "",
           "title": {
            "standoff": 15
           },
           "zerolinecolor": "white",
           "zerolinewidth": 2
          }
         }
        }
       }
      },
      "text/html": [
       "<div>                            <div id=\"16185273-b681-47f3-9428-d11dea41737d\" class=\"plotly-graph-div\" style=\"height:525px; width:100%;\"></div>            <script type=\"text/javascript\">                require([\"plotly\"], function(Plotly) {                    window.PLOTLYENV=window.PLOTLYENV || {};                                    if (document.getElementById(\"16185273-b681-47f3-9428-d11dea41737d\")) {                    Plotly.newPlot(                        \"16185273-b681-47f3-9428-d11dea41737d\",                        [{\"line\":{\"color\":\"rgb(31, 119, 180)\",\"width\":1},\"name\":\"AMA (000)\",\"x\":[2015,2016,2017,2018,2019,2020,2021,2022,2023],\"y\":[1.0315628959232097,-1.6851495820724114,1.440574083122191,0.5188759107761758,-0.14342948082137977,-1.4765782709063304,-0.3686702340104808,0.03993438143184167,0.642880296557179],\"type\":\"scatter\"},{\"line\":{\"color\":\"rgb(255, 127, 14)\",\"width\":1},\"name\":\"Reach (000)\",\"x\":[2015,2016,2017,2018,2019,2020,2021,2022,2023],\"y\":[1.6224034416606075,-0.9475780424664165,1.3787674971797064,0.3999742551081796,0.3272612019103913,-1.5934965929506657,-0.3672901049334177,-0.7917643570425844,-0.028277298465807323],\"type\":\"scatter\"},{\"line\":{\"color\":\"rgb(44, 160, 44)\",\"width\":1},\"name\":\"% Reached (Canadian population)\",\"x\":[2015,2016,2017,2018,2019,2020,2021,2022,2023],\"y\":[1.760270694469892,-0.5446141375155457,1.3809858487001372,0.4619494916426518,0.27230706875777333,-1.4490626158895787,-0.559202016198998,-0.9093111046018492,-0.41332322936447663],\"type\":\"scatter\"},{\"line\":{\"color\":\"rgb(214, 39, 40)\",\"width\":1},\"name\":\"Avg. Weekly Reach (000)\",\"x\":[2015,2016,2017,2018,2019,2020,2021,2022,2023],\"y\":[1.743536234967758,-1.3107269839702436,1.415785778187612,0.50179488173279,-0.021369054938914677,-1.117168695343478,-0.715210587971601,-0.0219874520271791,-0.4746541206367392],\"type\":\"scatter\"},{\"line\":{\"color\":\"rgb(148, 103, 189)\",\"width\":1},\"name\":\"# of Canadian teams at start of Playoffs\",\"x\":[2015,2016,2017,2018,2019,2020,2021,2022,2023],\"y\":[1.3038404810405297,-2.1475019687726373,1.3038404810405297,-0.7669649888473704,-0.07669649888473708,-0.07669649888473708,0.6135719910778963,-0.07669649888473708,-0.07669649888473708],\"type\":\"scatter\"},{\"line\":{\"color\":\"rgb(140, 86, 75)\",\"width\":1},\"name\":\"Loyalty %\",\"x\":[2015,2016,2017,2018,2019,2020,2021,2022,2023],\"y\":[1.0001958441882424,-1.82779152057409,0.8408726123706466,0.20357968510026112,-0.3938824342157247,-1.5888066728476964,0.6815493805530509,0.24341049305466075,0.8408726123706466],\"type\":\"scatter\"}],                        {\"template\":{\"data\":{\"bar\":[{\"error_x\":{\"color\":\"#2a3f5f\"},\"error_y\":{\"color\":\"#2a3f5f\"},\"marker\":{\"line\":{\"color\":\"#E5ECF6\",\"width\":0.5},\"pattern\":{\"fillmode\":\"overlay\",\"size\":10,\"solidity\":0.2}},\"type\":\"bar\"}],\"barpolar\":[{\"marker\":{\"line\":{\"color\":\"#E5ECF6\",\"width\":0.5},\"pattern\":{\"fillmode\":\"overlay\",\"size\":10,\"solidity\":0.2}},\"type\":\"barpolar\"}],\"carpet\":[{\"aaxis\":{\"endlinecolor\":\"#2a3f5f\",\"gridcolor\":\"white\",\"linecolor\":\"white\",\"minorgridcolor\":\"white\",\"startlinecolor\":\"#2a3f5f\"},\"baxis\":{\"endlinecolor\":\"#2a3f5f\",\"gridcolor\":\"white\",\"linecolor\":\"white\",\"minorgridcolor\":\"white\",\"startlinecolor\":\"#2a3f5f\"},\"type\":\"carpet\"}],\"choropleth\":[{\"colorbar\":{\"outlinewidth\":0,\"ticks\":\"\"},\"type\":\"choropleth\"}],\"contour\":[{\"colorbar\":{\"outlinewidth\":0,\"ticks\":\"\"},\"colorscale\":[[0.0,\"#0d0887\"],[0.1111111111111111,\"#46039f\"],[0.2222222222222222,\"#7201a8\"],[0.3333333333333333,\"#9c179e\"],[0.4444444444444444,\"#bd3786\"],[0.5555555555555556,\"#d8576b\"],[0.6666666666666666,\"#ed7953\"],[0.7777777777777778,\"#fb9f3a\"],[0.8888888888888888,\"#fdca26\"],[1.0,\"#f0f921\"]],\"type\":\"contour\"}],\"contourcarpet\":[{\"colorbar\":{\"outlinewidth\":0,\"ticks\":\"\"},\"type\":\"contourcarpet\"}],\"heatmap\":[{\"colorbar\":{\"outlinewidth\":0,\"ticks\":\"\"},\"colorscale\":[[0.0,\"#0d0887\"],[0.1111111111111111,\"#46039f\"],[0.2222222222222222,\"#7201a8\"],[0.3333333333333333,\"#9c179e\"],[0.4444444444444444,\"#bd3786\"],[0.5555555555555556,\"#d8576b\"],[0.6666666666666666,\"#ed7953\"],[0.7777777777777778,\"#fb9f3a\"],[0.8888888888888888,\"#fdca26\"],[1.0,\"#f0f921\"]],\"type\":\"heatmap\"}],\"heatmapgl\":[{\"colorbar\":{\"outlinewidth\":0,\"ticks\":\"\"},\"colorscale\":[[0.0,\"#0d0887\"],[0.1111111111111111,\"#46039f\"],[0.2222222222222222,\"#7201a8\"],[0.3333333333333333,\"#9c179e\"],[0.4444444444444444,\"#bd3786\"],[0.5555555555555556,\"#d8576b\"],[0.6666666666666666,\"#ed7953\"],[0.7777777777777778,\"#fb9f3a\"],[0.8888888888888888,\"#fdca26\"],[1.0,\"#f0f921\"]],\"type\":\"heatmapgl\"}],\"histogram\":[{\"marker\":{\"pattern\":{\"fillmode\":\"overlay\",\"size\":10,\"solidity\":0.2}},\"type\":\"histogram\"}],\"histogram2d\":[{\"colorbar\":{\"outlinewidth\":0,\"ticks\":\"\"},\"colorscale\":[[0.0,\"#0d0887\"],[0.1111111111111111,\"#46039f\"],[0.2222222222222222,\"#7201a8\"],[0.3333333333333333,\"#9c179e\"],[0.4444444444444444,\"#bd3786\"],[0.5555555555555556,\"#d8576b\"],[0.6666666666666666,\"#ed7953\"],[0.7777777777777778,\"#fb9f3a\"],[0.8888888888888888,\"#fdca26\"],[1.0,\"#f0f921\"]],\"type\":\"histogram2d\"}],\"histogram2dcontour\":[{\"colorbar\":{\"outlinewidth\":0,\"ticks\":\"\"},\"colorscale\":[[0.0,\"#0d0887\"],[0.1111111111111111,\"#46039f\"],[0.2222222222222222,\"#7201a8\"],[0.3333333333333333,\"#9c179e\"],[0.4444444444444444,\"#bd3786\"],[0.5555555555555556,\"#d8576b\"],[0.6666666666666666,\"#ed7953\"],[0.7777777777777778,\"#fb9f3a\"],[0.8888888888888888,\"#fdca26\"],[1.0,\"#f0f921\"]],\"type\":\"histogram2dcontour\"}],\"mesh3d\":[{\"colorbar\":{\"outlinewidth\":0,\"ticks\":\"\"},\"type\":\"mesh3d\"}],\"parcoords\":[{\"line\":{\"colorbar\":{\"outlinewidth\":0,\"ticks\":\"\"}},\"type\":\"parcoords\"}],\"pie\":[{\"automargin\":true,\"type\":\"pie\"}],\"scatter\":[{\"marker\":{\"colorbar\":{\"outlinewidth\":0,\"ticks\":\"\"}},\"type\":\"scatter\"}],\"scatter3d\":[{\"line\":{\"colorbar\":{\"outlinewidth\":0,\"ticks\":\"\"}},\"marker\":{\"colorbar\":{\"outlinewidth\":0,\"ticks\":\"\"}},\"type\":\"scatter3d\"}],\"scattercarpet\":[{\"marker\":{\"colorbar\":{\"outlinewidth\":0,\"ticks\":\"\"}},\"type\":\"scattercarpet\"}],\"scattergeo\":[{\"marker\":{\"colorbar\":{\"outlinewidth\":0,\"ticks\":\"\"}},\"type\":\"scattergeo\"}],\"scattergl\":[{\"marker\":{\"colorbar\":{\"outlinewidth\":0,\"ticks\":\"\"}},\"type\":\"scattergl\"}],\"scattermapbox\":[{\"marker\":{\"colorbar\":{\"outlinewidth\":0,\"ticks\":\"\"}},\"type\":\"scattermapbox\"}],\"scatterpolar\":[{\"marker\":{\"colorbar\":{\"outlinewidth\":0,\"ticks\":\"\"}},\"type\":\"scatterpolar\"}],\"scatterpolargl\":[{\"marker\":{\"colorbar\":{\"outlinewidth\":0,\"ticks\":\"\"}},\"type\":\"scatterpolargl\"}],\"scatterternary\":[{\"marker\":{\"colorbar\":{\"outlinewidth\":0,\"ticks\":\"\"}},\"type\":\"scatterternary\"}],\"surface\":[{\"colorbar\":{\"outlinewidth\":0,\"ticks\":\"\"},\"colorscale\":[[0.0,\"#0d0887\"],[0.1111111111111111,\"#46039f\"],[0.2222222222222222,\"#7201a8\"],[0.3333333333333333,\"#9c179e\"],[0.4444444444444444,\"#bd3786\"],[0.5555555555555556,\"#d8576b\"],[0.6666666666666666,\"#ed7953\"],[0.7777777777777778,\"#fb9f3a\"],[0.8888888888888888,\"#fdca26\"],[1.0,\"#f0f921\"]],\"type\":\"surface\"}],\"table\":[{\"cells\":{\"fill\":{\"color\":\"#EBF0F8\"},\"line\":{\"color\":\"white\"}},\"header\":{\"fill\":{\"color\":\"#C8D4E3\"},\"line\":{\"color\":\"white\"}},\"type\":\"table\"}]},\"layout\":{\"annotationdefaults\":{\"arrowcolor\":\"#2a3f5f\",\"arrowhead\":0,\"arrowwidth\":1},\"autotypenumbers\":\"strict\",\"coloraxis\":{\"colorbar\":{\"outlinewidth\":0,\"ticks\":\"\"}},\"colorscale\":{\"diverging\":[[0,\"#8e0152\"],[0.1,\"#c51b7d\"],[0.2,\"#de77ae\"],[0.3,\"#f1b6da\"],[0.4,\"#fde0ef\"],[0.5,\"#f7f7f7\"],[0.6,\"#e6f5d0\"],[0.7,\"#b8e186\"],[0.8,\"#7fbc41\"],[0.9,\"#4d9221\"],[1,\"#276419\"]],\"sequential\":[[0.0,\"#0d0887\"],[0.1111111111111111,\"#46039f\"],[0.2222222222222222,\"#7201a8\"],[0.3333333333333333,\"#9c179e\"],[0.4444444444444444,\"#bd3786\"],[0.5555555555555556,\"#d8576b\"],[0.6666666666666666,\"#ed7953\"],[0.7777777777777778,\"#fb9f3a\"],[0.8888888888888888,\"#fdca26\"],[1.0,\"#f0f921\"]],\"sequentialminus\":[[0.0,\"#0d0887\"],[0.1111111111111111,\"#46039f\"],[0.2222222222222222,\"#7201a8\"],[0.3333333333333333,\"#9c179e\"],[0.4444444444444444,\"#bd3786\"],[0.5555555555555556,\"#d8576b\"],[0.6666666666666666,\"#ed7953\"],[0.7777777777777778,\"#fb9f3a\"],[0.8888888888888888,\"#fdca26\"],[1.0,\"#f0f921\"]]},\"colorway\":[\"#636efa\",\"#EF553B\",\"#00cc96\",\"#ab63fa\",\"#FFA15A\",\"#19d3f3\",\"#FF6692\",\"#B6E880\",\"#FF97FF\",\"#FECB52\"],\"font\":{\"color\":\"#2a3f5f\"},\"geo\":{\"bgcolor\":\"white\",\"lakecolor\":\"white\",\"landcolor\":\"#E5ECF6\",\"showlakes\":true,\"showland\":true,\"subunitcolor\":\"white\"},\"hoverlabel\":{\"align\":\"left\"},\"hovermode\":\"closest\",\"mapbox\":{\"style\":\"light\"},\"paper_bgcolor\":\"white\",\"plot_bgcolor\":\"#E5ECF6\",\"polar\":{\"angularaxis\":{\"gridcolor\":\"white\",\"linecolor\":\"white\",\"ticks\":\"\"},\"bgcolor\":\"#E5ECF6\",\"radialaxis\":{\"gridcolor\":\"white\",\"linecolor\":\"white\",\"ticks\":\"\"}},\"scene\":{\"xaxis\":{\"backgroundcolor\":\"#E5ECF6\",\"gridcolor\":\"white\",\"gridwidth\":2,\"linecolor\":\"white\",\"showbackground\":true,\"ticks\":\"\",\"zerolinecolor\":\"white\"},\"yaxis\":{\"backgroundcolor\":\"#E5ECF6\",\"gridcolor\":\"white\",\"gridwidth\":2,\"linecolor\":\"white\",\"showbackground\":true,\"ticks\":\"\",\"zerolinecolor\":\"white\"},\"zaxis\":{\"backgroundcolor\":\"#E5ECF6\",\"gridcolor\":\"white\",\"gridwidth\":2,\"linecolor\":\"white\",\"showbackground\":true,\"ticks\":\"\",\"zerolinecolor\":\"white\"}},\"shapedefaults\":{\"line\":{\"color\":\"#2a3f5f\"}},\"ternary\":{\"aaxis\":{\"gridcolor\":\"white\",\"linecolor\":\"white\",\"ticks\":\"\"},\"baxis\":{\"gridcolor\":\"white\",\"linecolor\":\"white\",\"ticks\":\"\"},\"bgcolor\":\"#E5ECF6\",\"caxis\":{\"gridcolor\":\"white\",\"linecolor\":\"white\",\"ticks\":\"\"}},\"title\":{\"x\":0.05},\"xaxis\":{\"automargin\":true,\"gridcolor\":\"white\",\"linecolor\":\"white\",\"ticks\":\"\",\"title\":{\"standoff\":15},\"zerolinecolor\":\"white\",\"zerolinewidth\":2},\"yaxis\":{\"automargin\":true,\"gridcolor\":\"white\",\"linecolor\":\"white\",\"ticks\":\"\",\"title\":{\"standoff\":15},\"zerolinecolor\":\"white\",\"zerolinewidth\":2}}}},                        {\"responsive\": true}                    ).then(function(){\n",
       "                            \n",
       "var gd = document.getElementById('16185273-b681-47f3-9428-d11dea41737d');\n",
       "var x = new MutationObserver(function (mutations, observer) {{\n",
       "        var display = window.getComputedStyle(gd).display;\n",
       "        if (!display || display === 'none') {{\n",
       "            console.log([gd, 'removed!']);\n",
       "            Plotly.purge(gd);\n",
       "            observer.disconnect();\n",
       "        }}\n",
       "}});\n",
       "\n",
       "// Listen for the removal of the full notebook cells\n",
       "var notebookContainer = gd.closest('#notebook-container');\n",
       "if (notebookContainer) {{\n",
       "    x.observe(notebookContainer, {childList: true});\n",
       "}}\n",
       "\n",
       "// Listen for the clearing of the current output cell\n",
       "var outputEl = gd.closest('.output');\n",
       "if (outputEl) {{\n",
       "    x.observe(outputEl, {childList: true});\n",
       "}}\n",
       "\n",
       "                        })                };                });            </script>        </div>"
      ]
     },
     "metadata": {},
     "output_type": "display_data"
    }
   ],
   "source": [
    "fig = go.Figure()\n",
    "# Create and style traces\n",
    "colors=['rgb(31, 119, 180)', \n",
    "        'rgb(255, 127, 14)',\n",
    "        'rgb(44, 160, 44)', \n",
    "        'rgb(214, 39, 40)',\n",
    "        'rgb(148, 103, 189)', \n",
    "        'rgb(140, 86, 75)']\n",
    "\n",
    "for col, color in zip(std_cols, colors):\n",
    "    fig.add_trace(go.Scatter(x=df_1_std['Year'], \n",
    "                             y=df_1_std[col], \n",
    "                             name=col,\n",
    "                             line=dict(color=color, width=1)\n",
    "                            )\n",
    "                 )\n",
    "                        \n",
    "fig.show()"
   ]
  },
  {
   "cell_type": "code",
   "execution_count": 50,
   "id": "1e145900",
   "metadata": {},
   "outputs": [],
   "source": [
    "# Euclidean Distance\n",
    "\n",
    "# The Euclidean distance is a widely used technique to measure the similarity between time series.\n",
    "# It is a simple and intuitive measure that calculates the distance \n",
    "# between two time series as the straight-line distance between their corresponding points.\n",
    "# We can easily calculate it with the euclidean_distances function from scikit-learn.\n",
    "\n",
    "from sklearn.metrics.pairwise import euclidean_distances\n",
    "\n",
    "euc_dist = euclidean_distances(df_1_std[std_cols].T)\n",
    "euc_df = pd.DataFrame(\n",
    "    euc_dist,\n",
    "    index=std_cols,\n",
    "    columns=std_cols\n",
    ")"
   ]
  },
  {
   "cell_type": "code",
   "execution_count": 52,
   "id": "a69fedb4",
   "metadata": {},
   "outputs": [
    {
     "data": {
      "text/html": [
       "<div>\n",
       "<style scoped>\n",
       "    .dataframe tbody tr th:only-of-type {\n",
       "        vertical-align: middle;\n",
       "    }\n",
       "\n",
       "    .dataframe tbody tr th {\n",
       "        vertical-align: top;\n",
       "    }\n",
       "\n",
       "    .dataframe thead th {\n",
       "        text-align: right;\n",
       "    }\n",
       "</style>\n",
       "<table border=\"1\" class=\"dataframe\">\n",
       "  <thead>\n",
       "    <tr style=\"text-align: right;\">\n",
       "      <th></th>\n",
       "      <th>AMA (000)</th>\n",
       "      <th>Reach (000)</th>\n",
       "      <th>% Reached (Canadian population)</th>\n",
       "      <th>Avg. Weekly Reach (000)</th>\n",
       "      <th># of Canadian teams at start of Playoffs</th>\n",
       "      <th>Loyalty %</th>\n",
       "    </tr>\n",
       "  </thead>\n",
       "  <tbody>\n",
       "    <tr>\n",
       "      <th>AMA (000)</th>\n",
       "      <td>0.000000</td>\n",
       "      <td>1.512765</td>\n",
       "      <td>2.016223</td>\n",
       "      <td>1.471355</td>\n",
       "      <td>2.328154</td>\n",
       "      <td>1.318814</td>\n",
       "    </tr>\n",
       "    <tr>\n",
       "      <th>Reach (000)</th>\n",
       "      <td>1.512765</td>\n",
       "      <td>0.000000</td>\n",
       "      <td>0.638766</td>\n",
       "      <td>1.191460</td>\n",
       "      <td>2.616922</td>\n",
       "      <td>2.221928</td>\n",
       "    </tr>\n",
       "    <tr>\n",
       "      <th>% Reached (Canadian population)</th>\n",
       "      <td>2.016223</td>\n",
       "      <td>0.638766</td>\n",
       "      <td>0.000000</td>\n",
       "      <td>1.265642</td>\n",
       "      <td>2.912201</td>\n",
       "      <td>2.736295</td>\n",
       "    </tr>\n",
       "    <tr>\n",
       "      <th>Avg. Weekly Reach (000)</th>\n",
       "      <td>1.471355</td>\n",
       "      <td>1.191460</td>\n",
       "      <td>1.265642</td>\n",
       "      <td>0.000000</td>\n",
       "      <td>2.351272</td>\n",
       "      <td>2.313560</td>\n",
       "    </tr>\n",
       "    <tr>\n",
       "      <th># of Canadian teams at start of Playoffs</th>\n",
       "      <td>2.328154</td>\n",
       "      <td>2.616922</td>\n",
       "      <td>2.912201</td>\n",
       "      <td>2.351272</td>\n",
       "      <td>0.000000</td>\n",
       "      <td>2.164906</td>\n",
       "    </tr>\n",
       "    <tr>\n",
       "      <th>Loyalty %</th>\n",
       "      <td>1.318814</td>\n",
       "      <td>2.221928</td>\n",
       "      <td>2.736295</td>\n",
       "      <td>2.313560</td>\n",
       "      <td>2.164906</td>\n",
       "      <td>0.000000</td>\n",
       "    </tr>\n",
       "  </tbody>\n",
       "</table>\n",
       "</div>"
      ],
      "text/plain": [
       "                                          AMA (000)  Reach (000)  \\\n",
       "AMA (000)                                  0.000000     1.512765   \n",
       "Reach (000)                                1.512765     0.000000   \n",
       "% Reached (Canadian population)            2.016223     0.638766   \n",
       "Avg. Weekly Reach (000)                    1.471355     1.191460   \n",
       "# of Canadian teams at start of Playoffs   2.328154     2.616922   \n",
       "Loyalty %                                  1.318814     2.221928   \n",
       "\n",
       "                                          % Reached (Canadian population)  \\\n",
       "AMA (000)                                                        2.016223   \n",
       "Reach (000)                                                      0.638766   \n",
       "% Reached (Canadian population)                                  0.000000   \n",
       "Avg. Weekly Reach (000)                                          1.265642   \n",
       "# of Canadian teams at start of Playoffs                         2.912201   \n",
       "Loyalty %                                                        2.736295   \n",
       "\n",
       "                                          Avg. Weekly Reach (000)  \\\n",
       "AMA (000)                                                1.471355   \n",
       "Reach (000)                                              1.191460   \n",
       "% Reached (Canadian population)                          1.265642   \n",
       "Avg. Weekly Reach (000)                                  0.000000   \n",
       "# of Canadian teams at start of Playoffs                 2.351272   \n",
       "Loyalty %                                                2.313560   \n",
       "\n",
       "                                          # of Canadian teams at start of Playoffs  \\\n",
       "AMA (000)                                                                 2.328154   \n",
       "Reach (000)                                                               2.616922   \n",
       "% Reached (Canadian population)                                           2.912201   \n",
       "Avg. Weekly Reach (000)                                                   2.351272   \n",
       "# of Canadian teams at start of Playoffs                                  0.000000   \n",
       "Loyalty %                                                                 2.164906   \n",
       "\n",
       "                                          Loyalty %  \n",
       "AMA (000)                                  1.318814  \n",
       "Reach (000)                                2.221928  \n",
       "% Reached (Canadian population)            2.736295  \n",
       "Avg. Weekly Reach (000)                    2.313560  \n",
       "# of Canadian teams at start of Playoffs   2.164906  \n",
       "Loyalty %                                  0.000000  "
      ]
     },
     "execution_count": 52,
     "metadata": {},
     "output_type": "execute_result"
    }
   ],
   "source": [
    "euc_df"
   ]
  },
  {
   "cell_type": "code",
   "execution_count": 59,
   "id": "d4784905",
   "metadata": {
    "scrolled": false
   },
   "outputs": [
    {
     "name": "stdout",
     "output_type": "stream",
     "text": [
      "Slope : -0.03322368871498683\n",
      "Intercept : 0.1328947548599467\n"
     ]
    },
    {
     "data": {
      "image/png": "[encoded data removed]",
      "text/plain": [
       "<Figure size 432x288 with 1 Axes>"
      ]
     },
     "metadata": {
      "needs_background": "light"
     },
     "output_type": "display_data"
    },
    {
     "name": "stdout",
     "output_type": "stream",
     "text": [
      "Slope : -0.19368113260865427\n",
      "Intercept : 0.7747245304346163\n"
     ]
    },
    {
     "data": {
      "image/png": "[encoded data removed]",
      "text/plain": [
       "<Figure size 432x288 with 1 Axes>"
      ]
     },
     "metadata": {
      "needs_background": "light"
     },
     "output_type": "display_data"
    },
    {
     "name": "stdout",
     "output_type": "stream",
     "text": [
      "Slope : -0.2596642405654481\n",
      "Intercept : 1.0386569622617934\n"
     ]
    },
    {
     "data": {
      "image/png": "[encoded data removed]",
      "text/plain": [
       "<Figure size 432x288 with 1 Axes>"
      ]
     },
     "metadata": {
      "needs_background": "light"
     },
     "output_type": "display_data"
    },
    {
     "name": "stdout",
     "output_type": "stream",
     "text": [
      "Slope : -0.18145831893305814\n",
      "Intercept : 0.7258332757322329\n"
     ]
    },
    {
     "data": {
      "image/png": "[encoded data removed]",
      "text/plain": [
       "<Figure size 432x288 with 1 Axes>"
      ]
     },
     "metadata": {
      "needs_background": "light"
     },
     "output_type": "display_data"
    },
    {
     "name": "stdout",
     "output_type": "stream",
     "text": [
      "Slope : 7.743693960425013e-17\n",
      "Intercept : -4.388093244240841e-16\n"
     ]
    },
    {
     "data": {
      "image/png": "[encoded data removed]",
      "text/plain": [
       "<Figure size 432x288 with 1 Axes>"
      ]
     },
     "metadata": {
      "needs_background": "light"
     },
     "output_type": "display_data"
    },
    {
     "name": "stdout",
     "output_type": "stream",
     "text": [
      "Slope : 0.057754671533878726\n",
      "Intercept : -0.23101868613551532\n"
     ]
    },
    {
     "data": {
      "image/png": "[encoded data removed]",
      "text/plain": [
       "<Figure size 432x288 with 1 Axes>"
      ]
     },
     "metadata": {
      "needs_background": "light"
     },
     "output_type": "display_data"
    }
   ],
   "source": [
    "# time series trend analysis for df_1\n",
    "\n",
    "x = np.arange(df_1['Year'].size)\n",
    "for col in std_cols:\n",
    "    fit = np.polyfit(x, df_1_std[col], deg=1)\n",
    "    print (\"Slope : \" + str(fit[0]))\n",
    "    print (\"Intercept : \" + str(fit[1]))\n",
    "    \n",
    "    fit_function = np.poly1d(fit)\n",
    "    \n",
    "    #Linear regression plot\n",
    "    plt.plot(df_1['Year'], fit_function(x))\n",
    "    \n",
    "    #Time series data plot\n",
    "    plt.plot(df_1['Year'], df_1_std[col])\n",
    "    \n",
    "    plt.xlabel('Year')\n",
    "    plt.ylabel(col)\n",
    "    plt.title(col + 'regression trend line')\n",
    "    plt.show()"
   ]
  },
  {
   "cell_type": "code",
   "execution_count": 60,
   "id": "51158ecd",
   "metadata": {},
   "outputs": [
    {
     "data": {
      "text/plain": [
       "Index(['Year/Month', 'UV (000)', 'Number of Streams (000)',\n",
       "       'Total Mins Streamed (000)'],\n",
       "      dtype='object')"
      ]
     },
     "execution_count": 60,
     "metadata": {},
     "output_type": "execute_result"
    }
   ],
   "source": [
    "# trend pattern df_2\n",
    "df_2.columns"
   ]
  },
  {
   "cell_type": "code",
   "execution_count": 61,
   "id": "706d535c",
   "metadata": {},
   "outputs": [],
   "source": [
    "std_cols = [ 'UV (000)', \n",
    "            'Number of Streams (000)',\n",
    "            'Total Mins Streamed (000)']"
   ]
  },
  {
   "cell_type": "code",
   "execution_count": 63,
   "id": "addee6b4",
   "metadata": {},
   "outputs": [],
   "source": [
    "std_scaler = StandardScaler()\n",
    "std_data = std_scaler.fit_transform(df_2[std_cols])\n",
    "df_2_std = pd.DataFrame(\n",
    "                        columns=std_cols,\n",
    "                        data=std_data\n",
    "                    )\n",
    "\n",
    "df_2_std['Year/Month'] = df_2['Year/Month']"
   ]
  },
  {
   "cell_type": "code",
   "execution_count": 64,
   "id": "834c2858",
   "metadata": {},
   "outputs": [
    {
     "name": "stdout",
     "output_type": "stream",
     "text": [
      "Slope : 0.30416131589114376\n",
      "Intercept : -1.0645646056190032\n"
     ]
    },
    {
     "data": {
      "image/png": "[encoded data removed]",
      "text/plain": [
       "<Figure size 432x288 with 1 Axes>"
      ]
     },
     "metadata": {
      "needs_background": "light"
     },
     "output_type": "display_data"
    },
    {
     "name": "stdout",
     "output_type": "stream",
     "text": [
      "Slope : 0.21436783324763428\n",
      "Intercept : -0.7502874163667204\n"
     ]
    },
    {
     "data": {
      "image/png": "[encoded data removed]",
      "text/plain": [
       "<Figure size 432x288 with 1 Axes>"
      ]
     },
     "metadata": {
      "needs_background": "light"
     },
     "output_type": "display_data"
    },
    {
     "name": "stdout",
     "output_type": "stream",
     "text": [
      "Slope : 0.248624112132947\n",
      "Intercept : -0.8701843924653146\n"
     ]
    },
    {
     "data": {
      "image/png": "[encoded data removed]",
      "text/plain": [
       "<Figure size 432x288 with 1 Axes>"
      ]
     },
     "metadata": {
      "needs_background": "light"
     },
     "output_type": "display_data"
    }
   ],
   "source": [
    "# time series trend analysis for df_2\n",
    "\n",
    "x = np.arange(df_2['Year/Month'].size)\n",
    "for col in std_cols:\n",
    "    fit = np.polyfit(x, df_2_std[col], deg=1)\n",
    "    print (\"Slope : \" + str(fit[0]))\n",
    "    print (\"Intercept : \" + str(fit[1]))\n",
    "    \n",
    "    fit_function = np.poly1d(fit)\n",
    "    \n",
    "    #Linear regression plot\n",
    "    plt.plot(df_2['Year/Month'], fit_function(x))\n",
    "    \n",
    "    #Time series data plot\n",
    "    plt.plot(df_2['Year/Month'], df_2_std[col])\n",
    "    \n",
    "    plt.xlabel('Year/Month')\n",
    "    plt.ylabel(col)\n",
    "    plt.title(col + 'regression trend line')\n",
    "    plt.show()"
   ]
  },
  {
   "cell_type": "code",
   "execution_count": 71,
   "id": "77b5f727",
   "metadata": {},
   "outputs": [
    {
     "data": {
      "text/plain": [
       "UV (000)                     0.951299\n",
       "Number of Streams (000)      1.778137\n",
       "Total Mins Streamed (000)    2.103046\n",
       "dtype: float64"
      ]
     },
     "execution_count": 71,
     "metadata": {},
     "output_type": "execute_result"
    }
   ],
   "source": [
    "# bottom to spike jump %\n",
    "(df_2[std_cols].max() - df_2[std_cols].min()) / df_2[std_cols].min()"
   ]
  },
  {
   "cell_type": "code",
   "execution_count": null,
   "id": "b0d0ada2",
   "metadata": {},
   "outputs": [],
   "source": []
  }
 ],
 "metadata": {
  "kernelspec": {
   "display_name": "Python 3 (ipykernel)",
   "language": "python",
   "name": "python3"
  },
  "language_info": {
   "codemirror_mode": {
    "name": "ipython",
    "version": 3
   },
   "file_extension": ".py",
   "mimetype": "text/x-python",
   "name": "python",
   "nbconvert_exporter": "python",
   "pygments_lexer": "ipython3",
   "version": "3.9.12"
  }
 },
 "nbformat": 4,
 "nbformat_minor": 5
}
